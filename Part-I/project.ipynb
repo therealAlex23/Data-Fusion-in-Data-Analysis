{
 "cells": [
  {
   "cell_type": "markdown",
   "metadata": {},
   "source": [
    "# Project Part I Report"
   ]
  },
  {
   "cell_type": "markdown",
   "metadata": {},
   "source": [
    "### **1. Imports & Global Variables**"
   ]
  },
  {
   "cell_type": "code",
   "execution_count": 1076,
   "metadata": {},
   "outputs": [],
   "source": [
    "import numpy as np\n",
    "import pandas as pd\n",
    "import math\n",
    "import matplotlib.pyplot as plt\n",
    "from scipy.spatial.transform import Rotation as Rot\n",
    "from scipy.linalg import sqrtm, inv\n",
    "from numpy.linalg import norm\n",
    "from sklearn.metrics import mean_squared_error, r2_score\n",
    "from numpy.random import uniform,randn\n",
    "\n",
    "dt = 0.1  # time tick [s]\n",
    "SIM_TIME = 50.0  # simulation time [s]\n",
    "\n",
    "#  Simulation parameter\n",
    "GPS_Noise = np.diag([0.5, 0.5])**2\n",
    "\n",
    "Input_Noise = np.diag([1.0, np.deg2rad(30.0)])**2"
   ]
  },
  {
   "cell_type": "markdown",
   "metadata": {},
   "source": [
    "### **2. Main Functions**"
   ]
  },
  {
   "cell_type": "code",
   "execution_count": 1077,
   "metadata": {},
   "outputs": [],
   "source": [
    "def calc_input():\n",
    "    v = 1.0  # [m/s]\n",
    "    yawrate = 0.1  # [rad/s]\n",
    "    u = np.array([[v, yawrate]]).T\n",
    "    return u"
   ]
  },
  {
   "cell_type": "code",
   "execution_count": 1078,
   "metadata": {},
   "outputs": [],
   "source": [
    "def observation_input(xd, u):\n",
    "    # add noise to input\n",
    "    ud = u + Input_Noise @ np.random.randn(2, 1)\n",
    "    xd = motion_model(xd, ud)\n",
    "    return xd, ud"
   ]
  },
  {
   "cell_type": "code",
   "execution_count": 1079,
   "metadata": {},
   "outputs": [],
   "source": [
    "def observation_filters(xTrue,ekf = True,ukf = True,rf_id  = None):\n",
    "    if ekf:\n",
    "        # add noise to GPS x-y\n",
    "        zx = xTrue[0, 0] + np.random.randn() * GPS_Noise[0, 0]\n",
    "        zy = xTrue[1, 0] + np.random.randn() * GPS_Noise[1, 1]\n",
    "        z = np.array([[zx, zy]])\n",
    "    elif ukf:\n",
    "        # add noise to gps x-yt\n",
    "        z = observation_model(xTrue) + GPS_Noise @ np.random.randn(2, 1)\n",
    "    else:\n",
    "        # add noise to gps x-y\n",
    "        z = np.zeros((0, 3))\n",
    "\n",
    "        for i in range(len(rf_id[:, 0])):\n",
    "\n",
    "            dx = xTrue[0, 0] - rf_id[i, 0]\n",
    "            dy = xTrue[1, 0] - rf_id[i, 1]\n",
    "            d = math.hypot(dx, dy)\n",
    "            if d <= MAX_RANGE:\n",
    "                dn = d + np.random.randn() * Q_sim[0, 0] ** 0.5  # add noise\n",
    "                zi = np.array([[dn, rf_id[i, 0], rf_id[i, 1]]])\n",
    "                z = np.vstack((z, zi))\n",
    "    return z\n",
    "    "
   ]
  },
  {
   "cell_type": "markdown",
   "metadata": {},
   "source": [
    "- #### Observation (GNSS)"
   ]
  },
  {
   "cell_type": "code",
   "execution_count": 1080,
   "metadata": {},
   "outputs": [],
   "source": [
    "def observation_model(x):\n",
    "    #  Observation Model\n",
    "    H = np.array([\n",
    "        [1, 0, 0, 0],\n",
    "        [0, 1, 0, 0]])\n",
    "\n",
    "    z = H @ (x)\n",
    "\n",
    "    return z"
   ]
  },
  {
   "cell_type": "markdown",
   "metadata": {},
   "source": [
    "- #### Dynamic Robot model"
   ]
  },
  {
   "cell_type": "code",
   "execution_count": 1081,
   "metadata": {},
   "outputs": [],
   "source": [
    "def motion_model(x, u):\n",
    "\n",
    "    F = np.array([[1.0, 0, 0, 0],\n",
    "                  [0, 1.0, 0, 0],\n",
    "                  [0, 0, 1.0, 0],\n",
    "                  [0, 0, 0, 0]])\n",
    "\n",
    "    B = np.array([[dt * math.cos(x[2, 0]), 0],\n",
    "                  [dt * math.sin(x[2, 0]), 0],\n",
    "                  [0.0, dt],\n",
    "                  [1.0, 0.0]])\n",
    "\n",
    "    x = F.dot(x) + B.dot(u)\n",
    "    return x"
   ]
  },
  {
   "cell_type": "markdown",
   "metadata": {},
   "source": [
    "### **3. Filters Algorithms**\n",
    "\n",
    "#### A. Dead-Reckoning\n",
    "Process of calculating current position of some moving object by using a previously determined position, or fix, and then incorporating estimates of speed, heading direction, and course over elapsed time."
   ]
  },
  {
   "cell_type": "markdown",
   "metadata": {},
   "source": [
    "#### B. Extended Kalman Filter (EKF)\n",
    "\n",
    "In the real world, we have non linear equations because we may be predicting in one direction while our sensor is taking reading in some other direction, so it involves angles and sin and cos functions which are non linear. So EKF takes helps of Taylor Series (and Jacobian Matrix further) to linearly approximate a non linear function around the mean of the Gaussian and then predict the values.\n",
    "\n",
    "1st order Taylor polynomial is the <u>linear approximation</u> of the function.\n",
    "\n",
    "2nd order Taylor polynomial is often referred to as the <u> quadratic approximation</u>.\n",
    "\n",
    "**Parameters**"
   ]
  },
  {
   "cell_type": "code",
   "execution_count": 1082,
   "metadata": {},
   "outputs": [],
   "source": [
    "# Estimation parameters of EKF\n",
    "Q = np.diag([0.1, 0.1, np.deg2rad(1.0), 1.0])**2  # predict state covariance\n",
    "R = np.diag([1.0, 1.0])**2  # Observation x,y position covariance\n",
    "\n",
    "dt = 0.1  # time tick [s]\n",
    "SIM_TIME = 50.0  # simulation time [s]"
   ]
  },
  {
   "cell_type": "markdown",
   "metadata": {},
   "source": [
    "**Jacobian Matrix Calculation**"
   ]
  },
  {
   "cell_type": "code",
   "execution_count": 1083,
   "metadata": {},
   "outputs": [],
   "source": [
    "def jacobH(x):\n",
    "    # Jacobian of Observation Model\n",
    "    jH = np.array([\n",
    "        [1, 0, 0, 0],\n",
    "        [0, 1, 0, 0]])\n",
    "\n",
    "    return jH"
   ]
  },
  {
   "cell_type": "code",
   "execution_count": 1084,
   "metadata": {},
   "outputs": [],
   "source": [
    "def jacobF(x, u):\n",
    "    yaw = x[2, 0]\n",
    "    v = u[0, 0]\n",
    "    jF = np.array([\n",
    "        [1.0, 0.0, -dt * v * math.sin(yaw), dt * math.cos(yaw)],\n",
    "        [0.0, 1.0, dt * v * math.cos(yaw), dt * math.sin(yaw)],\n",
    "        [0.0, 0.0, 1.0, 0.0],\n",
    "        [0.0, 0.0, 0.0, 1.0]])\n",
    "\n",
    "    return jF"
   ]
  },
  {
   "cell_type": "markdown",
   "metadata": {},
   "source": [
    "**EKF Algorithm**\n",
    "- Notes:\n",
    "    - PEst is the covariance matrix of the state at time t;\n",
    "    - Q is the covariance matrix of the system noise;\n",
    "    - R is the covariance matrix of the observation noise.\n"
   ]
  },
  {
   "cell_type": "code",
   "execution_count": 1085,
   "metadata": {},
   "outputs": [],
   "source": [
    "def ekf_estimation(xEst, PEst, z, u):\n",
    "\n",
    "    #  Predict\n",
    "    xPred = motion_model(xEst, u)\n",
    "    jF = jacobF(xPred, u)\n",
    "    PPred = jF.dot(PEst).dot(jF.T) + Q\n",
    "\n",
    "    #  Update\n",
    "    jH = jacobH(xPred)\n",
    "    zPred = observation_model(xPred)\n",
    "    y = z.T - zPred\n",
    "    S = jH.dot(PPred).dot(jH.T) + R\n",
    "    K = PPred.dot(jH.T).dot(np.linalg.inv(S))\n",
    "    xEst = xPred + K.dot(y)\n",
    "    PEst = (np.eye(len(xEst)) - K.dot(jH)).dot(PPred)\n",
    "\n",
    "    return xEst, PEst"
   ]
  },
  {
   "cell_type": "markdown",
   "metadata": {},
   "source": [
    "#### C. Undescented Kalman Filter (UKF)\n",
    "\n",
    "Both in the EKF and in the LKF, non-linear functions are locally approximated with linear equations obtained from Taylor expansion. In a highly non-linear systems such solution can introduce significant errors because the linearization uses only the first term of a Taylor series. In such cases, it may be beneficial to use the UKF algorithm that, as an alternative to linearizing non-linear equations, uses non-linear transformations on a set of deterministically chosen sigma points.\n",
    "\n",
    "The main difference from EKF is that in EKF we take only one point i.e. mean and approximate, but in UKF we take a bunch of points called sigma points and approximate with a fact that more the number of points, more precise our approximation will be!\n",
    "\n",
    "**Parameters**"
   ]
  },
  {
   "cell_type": "code",
   "execution_count": 1086,
   "metadata": {},
   "outputs": [],
   "source": [
    "# Covariance for UKF simulation\n",
    "Q = np.diag([\n",
    "    0.1,  # variance of location on x-axis\n",
    "    0.1,  # variance of location on y-axis\n",
    "    np.deg2rad(1.0),  # variance of yaw angle\n",
    "    1.0  # variance of velocity\n",
    "]) ** 2  # predict state covariance\n",
    "R = np.diag([1.0, 1.0]) ** 2  # Observation x,y position covariance\n",
    "\n",
    "#  Simulation parameter\n",
    "GPS_Noise = np.diag([0.5, 0.5])**2\n",
    "Input_Noise = np.diag([1.0, np.deg2rad(30.0)])**2\n",
    "\n",
    "#  UKF Parameter\n",
    "ALPHA = 0.001\n",
    "BETA = 2\n",
    "KAPPA = 0"
   ]
  },
  {
   "cell_type": "markdown",
   "metadata": {},
   "source": [
    "**Weights & Gamma Calculations**"
   ]
  },
  {
   "cell_type": "code",
   "execution_count": 1087,
   "metadata": {},
   "outputs": [],
   "source": [
    "def setup_ukf(xDim):\n",
    "    # calculate lambda\n",
    "    lamb = ALPHA ** 2 * (xDim + KAPPA) - xDim\n",
    "    # calculate the weights\n",
    "    # w^(0)\n",
    "    wm = [lamb / (lamb + xDim)] # wm corresponds to w of the UKF Algorithm\n",
    "    # wc^(0)\n",
    "    wc = [(lamb / (lamb + xDim)) + (1 - ALPHA ** 2 + BETA)]\n",
    "    for i in range(2 * xDim):\n",
    "        # w^(+-i)\n",
    "        wm.append(1.0 / (2 * (xDim + lamb)))\n",
    "        # wc^(+-i)\n",
    "        wc.append(1.0 / (2 * (xDim + lamb)))\n",
    "    \n",
    "    # define gamma\n",
    "    gamma = math.sqrt(xDim + lamb)\n",
    "\n",
    "    wm = np.array([wm])\n",
    "    wc = np.array([wc])\n",
    "\n",
    "    return wm, wc, gamma"
   ]
  },
  {
   "cell_type": "markdown",
   "metadata": {},
   "source": [
    "**UKF Algorithm**\n",
    "- Sigma Points "
   ]
  },
  {
   "cell_type": "code",
   "execution_count": 1088,
   "metadata": {},
   "outputs": [],
   "source": [
    "def generate_sigma_points(xEst, PEst, gamma):\n",
    "    # Calculate the sigma points using xEst (xhat_k|k), PEst (P_k|k) and gamma\n",
    "    # or using xPred (xhat_k|k-1), PPred (P_k|k-1) and gamma\n",
    "    x_0 = xEst\n",
    "\n",
    "    sigma_neg = xEst - gamma * sqrtm(PEst)\n",
    "    sigma_pos = xEst + gamma * sqrtm(PEst)\n",
    "\n",
    "    return np.concatenate((x_0, sigma_neg, sigma_pos), axis=1)"
   ]
  },
  {
   "cell_type": "code",
   "execution_count": 1089,
   "metadata": {},
   "outputs": [],
   "source": [
    "def predict_sigma_motion(sigma, u):\n",
    "    # Sigma Points prediction with motion model\n",
    "    return motion_model(sigma, u)"
   ]
  },
  {
   "cell_type": "code",
   "execution_count": 1090,
   "metadata": {},
   "outputs": [],
   "source": [
    "def predict_sigma_observation(sigma):\n",
    "    # Sigma Points prediction with observation model\n",
    "    return observation_model(sigma)"
   ]
  },
  {
   "cell_type": "markdown",
   "metadata": {},
   "source": [
    "- Covarience of sigma Formula"
   ]
  },
  {
   "cell_type": "code",
   "execution_count": 1091,
   "metadata": {},
   "outputs": [],
   "source": [
    "def calc_sigma_covariance(x, sigma, wc, Pi):\n",
    "    # Calculate the covariance P = PPred (P_k|k-1) using x = xPred (xhat_k+1|k),\n",
    "    # sigma (x^(i)_k+1|k), wc and Pi = Q (initial value of PPred)\n",
    "    # or calculate the covariance P = st (P^yy_t|t-1) using x = zb (yhat_t),\n",
    "    # sigma = z_sigma (y^(i)_t), wc and Pi = R (initial value of st)\n",
    "    \n",
    "    return wc * (sigma-x) @ (sigma-x).T + Pi "
   ]
  },
  {
   "cell_type": "markdown",
   "metadata": {},
   "source": [
    "- Updated mean and covariance:"
   ]
  },
  {
   "cell_type": "code",
   "execution_count": 1092,
   "metadata": {},
   "outputs": [],
   "source": [
    "def calc_pxz(sigma, x, z_sigma, zb, wc):\n",
    "    # Calculate the covariance Pxz (P^xy_t|t-1) using wc, sigma (x^(i)_t|t-1),\n",
    "    # x (xhat_t|t-1), z_sigma (y^(i)_t) and zb (yhat_t) and \n",
    "    return wc * (sigma-x) @ (z_sigma-zb).T"
   ]
  },
  {
   "cell_type": "code",
   "execution_count": 1093,
   "metadata": {},
   "outputs": [],
   "source": [
    "def ukf_estimation(xEst, PEst, z, u, wm, wc, gamma):\n",
    "    #  Predict (UKF - time update)\n",
    "    \n",
    "    # Calculate the sigma-points \n",
    "    # Using: xExt == xhat_k|k and PEst == P_k|k and gamma \n",
    "    sigma = generate_sigma_points(xEst, PEst, gamma)\n",
    "\n",
    "    # Propagate the sigma-points \n",
    "    # sigma_propagated = (x^(i)_k+1|k = f(x^(i)_k|k , w^(i)_k)) \n",
    "    # using the sigma-points obtained in the previous calculus and u (ud = noisy u)\n",
    "    sigma_propagated = predict_sigma_motion(sigma, u)\n",
    "\n",
    "    # xPred == xhat_k+1|k \n",
    "    # Using: wm and sigma_propagated\n",
    "    xPred = wm @ sigma_propagated.T  \n",
    "    xPred = xPred.T\n",
    "\n",
    "    # Calculate PPred (P_k|k-1) using xPred, the propagated sigma-points\n",
    "    # wc and Q in def calc_sigma_covariance\n",
    "    PPred = calc_sigma_covariance(xPred, sigma_propagated, wc, Q)\n",
    "\n",
    "    #  Update (UKF - measurement update)\n",
    "    \n",
    "    # Calculate zPred (yhat_t) using xPred (xhat_k+1|k) in def observation_model\n",
    "    zPred = observation_model(xPred)\n",
    "\n",
    "    # Calculate y = (y_t - yhat_t) using z (y_t) and zPred (yhat_t)\n",
    "    y = z - zPred\n",
    "\n",
    "    # Calculate the sigma-points using xPred (xhat_k|k-1), PPred (P_k|k-1)\n",
    "    # and gamma in def generate_sigma_points\n",
    "    sigma = generate_sigma_points(xPred, PPred, gamma)\n",
    "\n",
    "    # Propagate the sigma-points z_sigma (y^(i)_t = h(x^(i)_t|t-1 , e^(i)_t)) \n",
    "    # using the propagated sigma-points in def predict_sigma_observation\n",
    "    z_sigma = predict_sigma_observation(sigma)\n",
    "\n",
    "    # Calculate zb (yhat_t) using wm and the sigma-points y^(i)_t \n",
    "    zb = wm @ z_sigma.T\n",
    "    zb = zb.T \n",
    "\n",
    "    # Calculate the sigma covariance, st (P^yy_t|t-1), using zb (yhat_t),\n",
    "    # z_sigma (y^(i)_t), wc and R in def calc_sigma_covariance\n",
    "    st = calc_sigma_covariance(zb, z_sigma, wc, R.T)\n",
    "    \n",
    "    # Pxz == (P^xy_t|t-1) \n",
    "    # Using sigma (x^(i)_t|t-1), xPred (xhat_t|t-1),\n",
    "    # z_sigma (y^(i)_t), zb (yhat_t) and wc in def calc_pxz\n",
    "    Pxz = calc_pxz(sigma, xPred, z_sigma, zb, wc)    \n",
    "    \n",
    "    # K_t == Pxz (P^xy_t|t-1)\n",
    "    K_t = Pxz @ inv(st.astype(float))\n",
    "    \n",
    "    # Update xEst (Xhat_t|t) using xPred (xhat_t|t-1), K_t and y (y_t - yhat_t)\n",
    "    xEst = xPred + K_t @ y\n",
    "    \n",
    "    # Update PEst (P_t|t) using PPred (P_t|t-1), K_t and st (P^yy_t|t-1)\n",
    "    PEst = PPred - K_t @ st @ K_t.T\n",
    "    \n",
    "    return xEst, PEst"
   ]
  },
  {
   "cell_type": "markdown",
   "metadata": {},
   "source": [
    "#### D. Particle Filter \n",
    "\n",
    "This filter uses relatively few particles compared with the standard particle filter and captures the non-Gaussian features of the true signal, which are typical in complex nonlinear systems.\n",
    "\n",
    "Unlike the previously presented algorithms that determine the robot's motion through predictions and comparisons with real data, this algorithm generates several points and applies the same motion until it reaches the robot's actual position. A more detailed description of the algorithm follows:\n",
    "\n",
    "1. We start by creating some reference points to make comparisons\n",
    "\n",
    "2. Next, several particles are generated at random positions in the search space. All particles have the same probability of being in the right place.\n",
    "\n",
    "3. The real position (obtained from GPS data for example) is then compared with all the generated particles (through the distances to our reference points) and the particles that are in similar positions will thus have a higher weight.\n",
    "\n",
    "4. In the positions where we conclude that it is more likely to match reality, we generate new particles in those regions.\n",
    "\n",
    "5. The robot moves and we apply the same motion to the particles.\n",
    "\n",
    "6. From here we repeat steps 3, 4 and 5.\n",
    "\n",
    "7. Over time, the particles tend to move closer to reality.\n",
    "\n",
    "The code of this filter was developed from this source: https://github.com/AtsushiSakai/PythonRobotics/blob/master/Localization/particle_filter/particle_filter.py\n",
    "\n",
    "\n",
    "**Parameters**"
   ]
  },
  {
   "cell_type": "code",
   "execution_count": 1094,
   "metadata": {},
   "outputs": [],
   "source": [
    "# Estimation parameter of PF\n",
    "Q_pf = np.diag([0.2]) ** 2  # range error\n",
    "R_pf = np.diag([2.0, np.deg2rad(40.0)]) ** 2  # input error\n",
    "\n",
    "#  Simulation parameter\n",
    "Q_sim = np.diag([0.2]) ** 2\n",
    "R_sim = np.diag([1.0, np.deg2rad(30.0)]) ** 2\n",
    "MAX_RANGE = 20.0  # maximum observation range\n",
    "\n",
    "# Particle filter parameter\n",
    "NP = 100  # Number of Particle\n",
    "NTh = NP / 2.0  # Number of particle for re-sampling\n"
   ]
  },
  {
   "cell_type": "code",
   "execution_count": 1095,
   "metadata": {},
   "outputs": [],
   "source": [
    "def gauss_likelihood(x, sigma):\n",
    "    p = 1.0 / math.sqrt(2.0 * math.pi * sigma ** 2) * \\\n",
    "        math.exp(-x ** 2 / (2 * sigma ** 2))\n",
    "\n",
    "    return p\n",
    "\n",
    "def calc_covariance(x_est, px, pw):\n",
    "    \"\"\"\n",
    "    calculate covariance matrix\n",
    "    see ipynb doc\n",
    "    \"\"\"\n",
    "    cov = np.zeros((3, 3))\n",
    "    n_particle = px.shape[1]\n",
    "    for i in range(n_particle):\n",
    "        dx = (px[:, i:i + 1] - x_est)[0:3]\n",
    "        cov += pw[0, i] * dx @ dx.T\n",
    "    cov *= 1.0 / (1.0 - pw @ pw.T)\n",
    "\n",
    "    return cov\n",
    "\n",
    "def pf_localization(px, pw, z, u):\n",
    "    \"\"\"\n",
    "    Localization with Particle filter\n",
    "    \"\"\"\n",
    "\n",
    "    for ip in range(NP):\n",
    "        x = np.array([px[:, ip]]).T\n",
    "        w = pw[0, ip]\n",
    "\n",
    "        #  Predict with random input sampling\n",
    "        ud1 = u[0, 0] + np.random.randn() * R_pf[0, 0] ** 0.5\n",
    "        ud2 = u[1, 0] + np.random.randn() * R[1, 1] ** 0.5\n",
    "        ud = np.array([[ud1, ud2]]).T\n",
    "        x = motion_model(x, ud)\n",
    "\n",
    "        #  Calc Importance Weight\n",
    "        for i in range(len(z[:, 0])):\n",
    "            dx = x[0, 0] - z[i, 1]\n",
    "            dy = x[1, 0] - z[i, 2]\n",
    "            pre_z = math.hypot(dx, dy)\n",
    "            dz = pre_z - z[i, 0]\n",
    "            w = w * gauss_likelihood(dz, math.sqrt(Q_pf[0, 0]))\n",
    "\n",
    "        px[:, ip] = x[:, 0]\n",
    "        pw[0, ip] = w\n",
    "\n",
    "    pw = pw / pw.sum()  # normalize\n",
    "\n",
    "    x_est = px.dot(pw.T)\n",
    "    p_est = calc_covariance(x_est, px, pw)\n",
    "\n",
    "    N_eff = 1.0 / (pw.dot(pw.T))[0, 0]  # Effective particle number\n",
    "    if N_eff < NTh:\n",
    "        px, pw = re_sampling(px, pw)\n",
    "    return x_est, p_est, px, pw\n",
    "def re_sampling(px, pw):\n",
    "    \"\"\"\n",
    "    low variance re-sampling\n",
    "    \"\"\"\n",
    "\n",
    "    w_cum = np.cumsum(pw)\n",
    "    base = np.arange(0.0, 1.0, 1 / NP)\n",
    "    re_sample_id = base + np.random.uniform(0, 1 / NP)\n",
    "    indexes = []\n",
    "    ind = 0\n",
    "    for ip in range(NP):\n",
    "        while re_sample_id[ip] > w_cum[ind]:\n",
    "            ind += 1\n",
    "        indexes.append(ind)\n",
    "\n",
    "    px = px[:, indexes]\n",
    "    pw = np.zeros((1, NP)) + 1.0 / NP  # init weight\n",
    "\n",
    "    return px, pw"
   ]
  },
  {
   "cell_type": "markdown",
   "metadata": {},
   "source": [
    "### **4.Simulation**"
   ]
  },
  {
   "cell_type": "markdown",
   "metadata": {},
   "source": [
    "#### A. Functions to measure performance of the algorithms\n",
    "\n",
    "**R2_Score** is the proportion of the variance in the dependent variable that is predictable from the independent variable(s)"
   ]
  },
  {
   "cell_type": "code",
   "execution_count": 1096,
   "metadata": {},
   "outputs": [],
   "source": [
    "def mse(y_true, y_pred):\n",
    "    return mean_squared_error(y_true, y_pred)\n",
    "    \n",
    "def rmse(y_true, y_pred):\n",
    "    return mean_squared_error(y_true, y_pred, squared=False)\n",
    "\n",
    "def r2(y_true, y_pred):\n",
    "    return r2_score(y_true, y_pred)\n",
    "\n",
    "def get_metrics(xTrue,xPred):\n",
    "    return np.array([mse(xTrue,xPred),rmse(xTrue,xPred),r2(xTrue,xPred)])\n",
    "    "
   ]
  },
  {
   "cell_type": "markdown",
   "metadata": {},
   "source": [
    "#### B. Simulation"
   ]
  },
  {
   "cell_type": "code",
   "execution_count": 1097,
   "metadata": {},
   "outputs": [],
   "source": [
    "ekf = True\n",
    "ukf = True\n",
    "pf = True"
   ]
  },
  {
   "cell_type": "code",
   "execution_count": 1098,
   "metadata": {},
   "outputs": [],
   "source": [
    "def plot_covariance_ellipse(xEst, PEst):\n",
    "    Pxy = PEst[0:2, 0:2]\n",
    "    eigval, eigvec = np.linalg.eig(Pxy)\n",
    "\n",
    "    if eigval[0] >= eigval[1]:\n",
    "        bigind = 0\n",
    "        smallind = 1\n",
    "    else:\n",
    "        bigind = 1\n",
    "        smallind = 0\n",
    "    \n",
    "    try:\n",
    "        a = math.sqrt(eigval[bigind])\n",
    "    except ValueError:\n",
    "        a = 0\n",
    "\n",
    "    try:\n",
    "        b = math.sqrt(eigval[smallind])\n",
    "    except ValueError:\n",
    "        b = 0\n",
    "\n",
    "    t = np.arange(0, 2 * math.pi + 0.1, 0.1)\n",
    "    x = [a * math.cos(it) for it in t]\n",
    "    y = [b * math.sin(it) for it in t]\n",
    "    angle = math.atan2(eigvec[bigind, 1], eigvec[bigind, 0])\n",
    "    R = np.array([[math.cos(angle), math.sin(angle)],\n",
    "                  [-math.sin(angle), math.cos(angle)]])\n",
    "    fx = R.dot(np.array([[x, y]]))\n",
    "    px = np.array(fx[0, :] + xEst[0, 0]).flatten()\n",
    "    py = np.array(fx[1, :] + xEst[1, 0]).flatten()\n",
    "    plt.plot(px, py, \"--r\")"
   ]
  },
  {
   "cell_type": "code",
   "execution_count": 1099,
   "metadata": {},
   "outputs": [],
   "source": [
    "def simulation(show = True):\n",
    "    \n",
    "    xDim = 4  # State Vector [x y yaw v]'\n",
    "\n",
    "    # xTrue: x_k|k-1 (given by the motion_model using x and u)\n",
    "    # xDR: xDR_k|k-1 (given by the motion_model using xDR_k-1 and noisy u)\n",
    "    xTrue = np.zeros((xDim, 1))\n",
    "    xDR = np.zeros((xDim, 1))  # Dead reckoning    \n",
    "\n",
    "    xEst_ukf = np.zeros((xDim, 1))\n",
    "    xEst_ekf = np.zeros((xDim, 1))\n",
    "    xEst_pf = np.zeros((xDim, 1))\n",
    "\n",
    "    PEst_ekf = np.eye(xDim)\n",
    "    PEst_ukf = np.eye(xDim)\n",
    "    \n",
    "    if ukf is True:\n",
    "        wm, wc, gamma = setup_ukf(xDim)\n",
    "\n",
    "    # history\n",
    "    hxTrue = xTrue\n",
    "    hxDR = xTrue\n",
    "    hxEst_ekf = xEst_ekf\n",
    "    hxEst_ukf = xEst_ukf\n",
    "    hxEst_pf = xEst_pf\n",
    "    \n",
    "    hz = np.zeros((1,2))\n",
    "    hz_pf = np.zeros ((0, 3))\n",
    "\n",
    "    # RF_ID positions [x, y]\n",
    "    rf_id = np.array([[10.0, 0.0],\n",
    "                      [10.0, 10.0],\n",
    "                      [0.0, 15.0],\n",
    "                      [-5.0, 20.0]])\n",
    "\n",
    "    # create particles and weights\n",
    "    px = np.zeros((4, NP))  # Particle store\n",
    "    pw = np.zeros((1, NP)) + 1.0 / NP  # Particle weight\n",
    "    \n",
    "    time = 0.0\n",
    "\n",
    "\n",
    "    while SIM_TIME >= time:\n",
    "        time += dt\n",
    "        # effective values of the input variables (v and omega)\n",
    "        u = calc_input()\n",
    "        \n",
    "        # z: noisy GPS output variables (given by observation_model)\n",
    "        # ud: noisy u\n",
    "        xTrue = motion_model(xTrue, u)\n",
    "        xDR,ud = observation_input(xDR, u)\n",
    "        if ekf is True:\n",
    "            z = observation_filters(xTrue)\n",
    "            xEst_ekf, PEst_ekf = ekf_estimation(xEst_ekf, PEst_ekf, z, ud)\n",
    "            hxEst_ekf = np.hstack((hxEst_ekf, xEst_ekf))\n",
    "            hz = np.vstack((hz, z))\n",
    "        if ukf is True:\n",
    "            z = observation_filters(xTrue,ekf = False)\n",
    "            # Estimation of xEst, PEst using the UKF algorithm \n",
    "            xEst_ukf, PEst_ukf = ukf_estimation(xEst_ukf, PEst_ukf, z, ud, wm, wc, gamma)\n",
    "            hxEst_ukf = np.hstack((hxEst_ukf, xEst_ukf))\n",
    "        if pf is True:\n",
    "            z = observation_filters(xTrue,ekf=False,ukf=False,rf_id=rf_id)\n",
    "            xEst_pf, PEst_pf, px, pw = pf_localization(px, pw, z, ud)\n",
    "            hxEst_pf = np.hstack((hxEst_pf, xEst_pf))\n",
    "            hz_pf = np.vstack((hz_pf,z))\n",
    "        \n",
    "        hxDR = np.hstack((hxDR, xDR))\n",
    "        hxTrue = np.hstack((hxTrue, xTrue))\n",
    "    \n",
    "    if show is True:\n",
    "        fig, axs = plt.subplots(1,2)\n",
    "        fig.show()\n",
    "        fig.set_size_inches(23, 10.5)\n",
    "        plt.cla()\n",
    "        plt.gcf().canvas.mpl_connect('key_release_event',lambda event: [exit(0) if event.key == 'escape' else None])\n",
    "        axs[0].title.set_text('EKF & UKF')\n",
    "        axs[0].plot(hz[:, 0], hz[:, 1], \".g\",label=\"GPS Signal\")\n",
    "        axs[0].plot(hxTrue[0, :].flatten(), hxTrue[1, :].flatten(), \"-b\",label=\"True Position\")\n",
    "        axs[0].plot(hxDR[0, :].flatten(), hxDR[1, :].flatten(), \"-k\",label=\"Dead-Reckoning\")\n",
    "        axs[0].grid()\n",
    "\n",
    "\n",
    "        if ekf is True:\n",
    "            axs[0].plot(hxEst_ekf[0, :].flatten(), hxEst_ekf[1, :].flatten(), \"-r\", label=\"EKF\")\n",
    "        if ukf is True:\n",
    "            axs[0].plot(hxEst_ukf[0, :].flatten(), hxEst_ukf[1, :].flatten(), \"-m\", label=\"UKF\")\n",
    "        axs[0].legend()\n",
    "        \n",
    "        if pf is True:\n",
    "            axs[1].title.set_text('Particle Filter')\n",
    "            for i in range(len(hz_pf[:, 0])):\n",
    "                axs[1].plot([xTrue[0, 0], hz_pf[i, 1]], [xTrue[1, 0], hz_pf[i, 2]], \"-k\")\n",
    "            axs[1].grid()\n",
    "            axs[1].plot(hxEst_pf[0, :].flatten(), hxEst_pf[1, :].flatten(), \"-r\", label=\"Particle Filter\")\n",
    "            axs[1].plot(rf_id[:, 0], rf_id[:, 1], \"*k\", label = \"Landmarks\")\n",
    "            axs[1].plot(px[0, :], px[1, :], \".r\")\n",
    "            axs[1].plot(np.array(hxTrue[0, :]).flatten(),\n",
    "            np.array(hxTrue[1, :]).flatten(), \"-b\", label = \"trajetória verdadeira\")\n",
    "            axs[1].plot(np.array(hxDR[0, :]).flatten(),np.array(hxDR[1, :]).flatten(), \"-k\", label = \"trajetória por posicionamento relativo\")\n",
    "            axs[1].legend()\n",
    "        fig.canvas.draw()\n",
    "        \n",
    "    if ekf is True:\n",
    "        metricsEKF = get_metrics(hxTrue.T[:, :2], hxEst_ekf.T[:, :2])\n",
    "    else:\n",
    "        metricsEKF = None\n",
    "    \n",
    "    if ukf is True:\n",
    "        metricsUKF = get_metrics(hxTrue.T[:, :2],hxEst_ukf.T[:, :2])\n",
    "    else:\n",
    "        metricsUKF = None\n",
    "\n",
    "    if pf is True:\n",
    "        metricsPF = get_metrics(hxTrue.T[:, :2],hxEst_pf.T[:, :2])\n",
    "    else:\n",
    "        metricsPF = None\n",
    "\n",
    "    metricsDR = get_metrics(hxTrue.T[:, :2],hxDR.T[:, :2])\n",
    "    return metricsDR,metricsEKF,metricsUKF,metricsPF"
   ]
  },
  {
   "cell_type": "code",
   "execution_count": 1100,
   "metadata": {},
   "outputs": [
    {
     "name": "stderr",
     "output_type": "stream",
     "text": [
      "<ipython-input-1099-00db930cf0f6>:73: UserWarning: Matplotlib is currently using module://ipykernel.pylab.backend_inline, which is a non-GUI backend, so cannot show the figure.\n",
      "  fig.show()\n"
     ]
    },
    {
     "data": {
      "text/plain": [
       "(array([4.48205256e+01, 6.55678872e+00, 1.80663993e-02]),\n",
       " array([0.02769162, 0.1657685 , 0.99940269]),\n",
       " array([0.30840555, 0.5531645 , 0.99351313]),\n",
       " array([0.01345302, 0.11598484, 0.99971367]))"
      ]
     },
     "execution_count": 1100,
     "metadata": {},
     "output_type": "execute_result"
    },
    {
     "data": {
      "image/png": "[encoded data removed]",
      "text/plain": [
       "<Figure size 1656x756 with 2 Axes>"
      ]
     },
     "metadata": {
      "needs_background": "light"
     },
     "output_type": "display_data"
    }
   ],
   "source": [
    "#One simulation\n",
    "simulation()"
   ]
  },
  {
   "cell_type": "markdown",
   "metadata": {},
   "source": [
    "- #### Filter comparison with the reality"
   ]
  },
  {
   "cell_type": "code",
   "execution_count": 1101,
   "metadata": {},
   "outputs": [],
   "source": [
    "#Always a multiple of 5\n",
    "numSimulations = 50\n",
    "\n",
    "#First column = mean square error\n",
    "#Second column = real mean square error\n",
    "#Third column = r2\n",
    "metrics_DR_sims = np.zeros((numSimulations,3))\n",
    "metrics_EKF_sims = np.zeros((numSimulations,3))\n",
    "metrics_UKF_sims = np.zeros((numSimulations,3))\n",
    "metrics_PF_sims = np.zeros((numSimulations,3))\n",
    "\n",
    "\n",
    "for i in range(numSimulations):\n",
    "    # True position, dead-reckoning, ekf, ukf, particle filter\n",
    "    metrics_DR,metrics_EKF,metrics_UKF,metrics_PF = simulation(False)\n",
    "    metrics_DR_sims[i] = metrics_DR\n",
    "    if ekf is True:\n",
    "        metrics_EKF_sims[i] = metrics_EKF\n",
    "    if ukf is True:\n",
    "        metrics_UKF_sims[i] = metrics_UKF\n",
    "    if pf is True:\n",
    "        metrics_PF_sims[i] = metrics_PF\n",
    "\n",
    "metrics_DR = []\n",
    "metrics_UKF = []\n",
    "metrics_EKF = []\n",
    "metrics_PF = []\n",
    "\n",
    "for i in range(3):\n",
    "    metrics_DR.append(np.average(metrics_DR_sims[:,i])),\n",
    "    metrics_DR.append(np.std(metrics_DR_sims[:,i]))\n",
    "    if ekf is True:\n",
    "        metrics_EKF.append(np.average(metrics_EKF_sims[:,i])),\n",
    "        metrics_EKF.append(np.std(metrics_EKF_sims[:,i]))\n",
    "    if ukf is True:\n",
    "        metrics_UKF.append(np.average(metrics_UKF_sims[:,i])),\n",
    "        metrics_UKF.append(np.std(metrics_UKF_sims[:,i]))\n",
    "    if pf is True:\n",
    "        metrics_PF.append(np.average(metrics_PF_sims[:,i])),\n",
    "        metrics_PF.append(np.std(metrics_PF_sims[:,i]))\n",
    "indexNames = [\"Dead-Reckoning\"]\n",
    "finalData = [metrics_DR]\n",
    "\n",
    "if ekf is True:\n",
    "    indexNames.append(\"EKF\")\n",
    "    finalData.append(metrics_EKF)\n",
    "if ukf is True:\n",
    "    indexNames.append(\"UKF\")\n",
    "    finalData.append(metrics_UKF)\n",
    "if pf is True:\n",
    "    indexNames.append(\"Particle Filter\")\n",
    "    finalData.append(metrics_PF)\n",
    "\n",
    "\n",
    "df_metrics = pd.DataFrame( data = finalData,\n",
    "    \n",
    "    columns=[\n",
    "        \"MSE_mean\",\n",
    "        \"MSE_std\",\n",
    "        \"RMSE_mean\",\n",
    "        \"RMSE_std\",\n",
    "        \"R^2_mean\",\n",
    "        \"R^2_std\"\n",
    "    ],\n",
    "    index= indexNames)"
   ]
  },
  {
   "cell_type": "markdown",
   "metadata": {},
   "source": [
    "## **5. Conclusions**"
   ]
  },
  {
   "cell_type": "code",
   "execution_count": 1102,
   "metadata": {},
   "outputs": [
    {
     "data": {
      "text/html": [
       "<div>\n",
       "<style scoped>\n",
       "    .dataframe tbody tr th:only-of-type {\n",
       "        vertical-align: middle;\n",
       "    }\n",
       "\n",
       "    .dataframe tbody tr th {\n",
       "        vertical-align: top;\n",
       "    }\n",
       "\n",
       "    .dataframe thead th {\n",
       "        text-align: right;\n",
       "    }\n",
       "</style>\n",
       "<table border=\"1\" class=\"dataframe\">\n",
       "  <thead>\n",
       "    <tr style=\"text-align: right;\">\n",
       "      <th></th>\n",
       "      <th>MSE_mean</th>\n",
       "      <th>MSE_std</th>\n",
       "      <th>RMSE_mean</th>\n",
       "      <th>RMSE_std</th>\n",
       "      <th>R^2_mean</th>\n",
       "      <th>R^2_std</th>\n",
       "    </tr>\n",
       "  </thead>\n",
       "  <tbody>\n",
       "    <tr>\n",
       "      <th>Dead-Reckoning</th>\n",
       "      <td>23.134272</td>\n",
       "      <td>26.398845</td>\n",
       "      <td>4.097011</td>\n",
       "      <td>2.227274</td>\n",
       "      <td>0.506546</td>\n",
       "      <td>0.555844</td>\n",
       "    </tr>\n",
       "    <tr>\n",
       "      <th>EKF</th>\n",
       "      <td>0.020616</td>\n",
       "      <td>0.005436</td>\n",
       "      <td>0.142118</td>\n",
       "      <td>0.017734</td>\n",
       "      <td>0.999562</td>\n",
       "      <td>0.000115</td>\n",
       "    </tr>\n",
       "    <tr>\n",
       "      <th>UKF</th>\n",
       "      <td>0.117273</td>\n",
       "      <td>0.105484</td>\n",
       "      <td>0.314637</td>\n",
       "      <td>0.130972</td>\n",
       "      <td>0.997507</td>\n",
       "      <td>0.002248</td>\n",
       "    </tr>\n",
       "    <tr>\n",
       "      <th>Particle Filter</th>\n",
       "      <td>0.013552</td>\n",
       "      <td>0.001575</td>\n",
       "      <td>0.116154</td>\n",
       "      <td>0.006592</td>\n",
       "      <td>0.999711</td>\n",
       "      <td>0.000034</td>\n",
       "    </tr>\n",
       "  </tbody>\n",
       "</table>\n",
       "</div>"
      ],
      "text/plain": [
       "                  MSE_mean    MSE_std  RMSE_mean  RMSE_std  R^2_mean   R^2_std\n",
       "Dead-Reckoning   23.134272  26.398845   4.097011  2.227274  0.506546  0.555844\n",
       "EKF               0.020616   0.005436   0.142118  0.017734  0.999562  0.000115\n",
       "UKF               0.117273   0.105484   0.314637  0.130972  0.997507  0.002248\n",
       "Particle Filter   0.013552   0.001575   0.116154  0.006592  0.999711  0.000034"
      ]
     },
     "execution_count": 1102,
     "metadata": {},
     "output_type": "execute_result"
    }
   ],
   "source": [
    "df_metrics"
   ]
  },
  {
   "cell_type": "markdown",
   "metadata": {},
   "source": [
    "**Criteria:**\n",
    "- Regarding the MSE and RMSE values, the closer the values are to zero, the closer the model is to reality.\n",
    "- To obtain the MSE and RMSE values, each algorithm was tested 50 times, thus obtaining 30 values for each algorithm and metric. The final result is the mean and standard deviation of these same values.\n",
    "\n",
    "**Analysis:**\n",
    "- The Dead-Recoking algorithm is the worst performing as we can see from the metrics\n",
    "- EKF and UKF have very close results though EKF shows a slightly better perfomance than UKF which wasn't expected since the UKF algorithm due to the usage of sigma points should have a better aproximation\n",
    "- EKF, UKF and Particle Filter are very stable algorithms since they have a low MSE_std values, being the most stable the Partcile Filter\n",
    "- EKF, UKF and Particle Filter show results pretty close to reality, we can see that by the R2_Score mean"
   ]
  },
  {
   "cell_type": "markdown",
   "metadata": {},
   "source": [
    "## **6. References**\n",
    "\n",
    "https://towardsdatascience.com/the-unscented-kalman-filter-anything-ekf-can-do-i-can-do-it-better-ce7c773cf88d\n",
    "\n",
    "https://www.pnas.org/doi/10.1073/pnas.1617398113\n",
    "\n",
    "https://www.spiedigitallibrary.org/conference-proceedings-of-spie/11442/114421C/Unscented-Kalman-filter-application-in-personal-navigation/10.1117/12.2564984.full?SSO=1"
   ]
  }
 ],
 "metadata": {
  "interpreter": {
   "hash": "03d10abb906f65bdf92f0cf6bf0e9e92318b3e17b5124267de62c70620d20a7d"
  },
  "kernelspec": {
   "display_name": "Python 3.8.8 ('base')",
   "language": "python",
   "name": "python3"
  },
  "language_info": {
   "codemirror_mode": {
    "name": "ipython",
    "version": 3
   },
   "file_extension": ".py",
   "mimetype": "text/x-python",
   "name": "python",
   "nbconvert_exporter": "python",
   "pygments_lexer": "ipython3",
   "version": "3.8.8"
  },
  "orig_nbformat": 4
 },
 "nbformat": 4,
 "nbformat_minor": 2
}
