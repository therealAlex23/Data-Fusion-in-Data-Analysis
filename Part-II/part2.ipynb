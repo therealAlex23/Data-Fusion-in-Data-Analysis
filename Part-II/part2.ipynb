{
 "cells": [
  {
   "cell_type": "code",
   "execution_count": null,
   "metadata": {},
   "outputs": [],
   "source": [
    "import numpy as np\n",
    "import matplotlib.pyplot as plt\n",
    "import pandas as pd\n",
    "from scipy import stats"
   ]
  },
  {
   "cell_type": "code",
   "execution_count": null,
   "metadata": {},
   "outputs": [],
   "source": [
    "def count(X):\n",
    "    return X.shape[0]\n",
    "\n",
    "def npdf(x, mean, var):\n",
    "    return stats.norm.pdf(x, mean, var)"
   ]
  },
  {
   "cell_type": "code",
   "execution_count": null,
   "metadata": {},
   "outputs": [],
   "source": [
    "data = []\n",
    "with open(\"Datasets/DATA.txt\",\"r\") as f:\n",
    "    data = np.array([l.split(\"  \") for l in f.read().splitlines()], dtype=float)\n",
    "\n",
    "df = pd.DataFrame(\n",
    "    data,\n",
    "    columns = [\"gender\",\"age\",\"risk factor\",\"sbp\",\"hr1\",\"st\",\"hr2\",\"crt\",\"kil\",\"event\"],\n",
    ")"
   ]
  },
  {
   "cell_type": "code",
   "execution_count": null,
   "metadata": {},
   "outputs": [],
   "source": [
    "df['gender'] = df['gender'].astype(int)\n",
    "df['age'] = df['age'].astype(int)\n",
    "df['risk factor'] = df['risk factor'].astype(int)\n",
    "df['st'] = df['st'].astype(int)\n",
    "df['kil'] = df['kil'].astype(int)\n",
    "df['event'] = df['event'].astype(int)"
   ]
  },
  {
   "cell_type": "code",
   "execution_count": null,
   "metadata": {},
   "outputs": [],
   "source": [
    "df.head()"
   ]
  },
  {
   "cell_type": "code",
   "execution_count": null,
   "metadata": {},
   "outputs": [],
   "source": [
    "df.describe()"
   ]
  },
  {
   "cell_type": "markdown",
   "metadata": {},
   "source": [
    "### Continuous Variables\n",
    "\n",
    "* Age\n",
    "* SBP\n",
    "* HR Fused (HR1 + HR2)\n",
    "* CRT"
   ]
  },
  {
   "cell_type": "code",
   "execution_count": null,
   "metadata": {},
   "outputs": [],
   "source": [
    "var = np.array([2, 0.5])**2\n",
    "gamma = np.sum(1 / var)\n",
    "s = 1 / gamma\n",
    "hr_fused = df.hr1/(gamma*var[0]) + df.hr2/(gamma*var[1])\n",
    "df['hr_fused'] = hr_fused"
   ]
  },
  {
   "cell_type": "code",
   "execution_count": null,
   "metadata": {},
   "outputs": [],
   "source": [
    "plt.figure(figsize=(10,5))\n",
    "x = np.linspace(30,130, 100)\n",
    "plt.plot(x, npdf(x, df.hr1.mean(), df.hr1.std()))\n",
    "plt.plot(x, npdf(x, df.hr2.mean(), df.hr2.std()),'r')\n",
    "plt.plot(x, npdf(x, df.hr_fused.mean(), df.hr_fused.std()),'g')\n",
    "plt.legend(['HR BP','HR ECG','HR Fused'])"
   ]
  },
  {
   "cell_type": "markdown",
   "metadata": {},
   "source": [
    "Testing for normality"
   ]
  },
  {
   "cell_type": "code",
   "execution_count": null,
   "metadata": {},
   "outputs": [],
   "source": [
    "fig = plt.figure(figsize=(8,5))\n",
    "\n",
    "plt.subplot(221)\n",
    "plt.hist(df.age)\n",
    "plt.title('Age')\n",
    "\n",
    "plt.subplot(222)\n",
    "plt.hist(df.sbp)\n",
    "plt.title('Systolic Blood Pressure')\n",
    "\n",
    "plt.subplot(223)\n",
    "plt.hist(df.hr_fused)\n",
    "plt.title('Heart Rate (Fused)')\n",
    "\n",
    "plt.subplot(224)\n",
    "plt.hist(df.crt)\n",
    "plt.title('Creatinine')\n",
    "\n",
    "fig.tight_layout()"
   ]
  },
  {
   "cell_type": "code",
   "execution_count": null,
   "metadata": {},
   "outputs": [],
   "source": [
    "from scipy.stats import ks_1samp, shapiro\n",
    "from scipy.stats import norm\n",
    "\n",
    "\n",
    "p_values = {}\n",
    "for c in [\"age\",\"sbp\",\"hr_fused\",\"crt\"]:\n",
    "    _, ks = ks_1samp(df[c], norm.cdf)\n",
    "    _, s = shapiro(df[c])\n",
    "    p_values[c] = {\n",
    "        \"ks\": ks >= 0.05,\n",
    "        \"shapiro\": s >= 0.05,\n",
    "    }"
   ]
  },
  {
   "cell_type": "code",
   "execution_count": null,
   "metadata": {},
   "outputs": [],
   "source": [
    "pd.DataFrame(p_values).T"
   ]
  },
  {
   "cell_type": "markdown",
   "metadata": {},
   "source": [
    "It will be assumed that, given the results from the statistical tests and the histograms, only systolic blood presure (SBP) follows a normal distribution. As such, the remaining continuous variables will be discretized."
   ]
  },
  {
   "cell_type": "code",
   "execution_count": null,
   "metadata": {},
   "outputs": [],
   "source": [
    "fig = plt.figure(figsize=(10,3))\n",
    "plot_bins = 7\n",
    "\n",
    "plt.subplot(131)\n",
    "bins_age = plt.hist(df.age, plot_bins)[1]\n",
    "plt.title('Age')\n",
    "\n",
    "plt.subplot(132)\n",
    "bins_hr_fused = plt.hist(df.hr_fused, plot_bins)[1]\n",
    "plt.title('Heart Rate (Fused)')\n",
    "\n",
    "plt.subplot(133)\n",
    "bins_crt = plt.hist(df.crt, plot_bins)[1]\n",
    "plt.title('Creatinine')\n",
    "\n",
    "fig.tight_layout()"
   ]
  },
  {
   "cell_type": "code",
   "execution_count": null,
   "metadata": {},
   "outputs": [],
   "source": [
    "def discretize(df, bins, columns=[\"age\",\"hr_fused\",\"crt\"]):\n",
    "    '''\n",
    "    Discretize continuous variables\n",
    "    '''\n",
    "\n",
    "    probs = {} \n",
    "\n",
    "    for c in columns:\n",
    "        probs[c] = np.zeros((2,len(bins[c])-1))\n",
    "        for i, b in enumerate(bins[c]):\n",
    "            \n",
    "            if i == len(bins[c]) - 1:\n",
    "                break\n",
    "\n",
    "            range = df[(df[c] >= bins[c][i]) & (df[c] < bins[c][i+1])]\n",
    "\n",
    "            range_no_event = count(range[range.event == 0])\n",
    "            range_event = count(range[range.event == 1])\n",
    "\n",
    "            probs[c][:,i] = [range_no_event/(range_no_event + range_event), range_event/(range_no_event + range_event)]\n",
    "\n",
    "    return probs\n",
    "\n",
    "def binize(x, bins, columns=[\"age\",\"hr_fused\",\"crt\"]):\n",
    "\n",
    "    bin = {\n",
    "\n",
    "    }\n",
    "\n",
    "    for c in columns:\n",
    "        for i in range(len(bins[c])-1):\n",
    "            if (x[c] >= bins[c][i]) & (x[c] < bins[c][i+1]):\n",
    "                bin[c] = i\n",
    "                break\n",
    "            elif (i == (len(bins[c])-2)):\n",
    "                bin[c] = i\n",
    "\n",
    "    return bin"
   ]
  },
  {
   "cell_type": "code",
   "execution_count": null,
   "metadata": {},
   "outputs": [],
   "source": [
    "bins = {\n",
    "        \"age\": bins_age,\n",
    "        \"hr_fused\": bins_hr_fused,\n",
    "        \"crt\": bins_crt\n",
    "}\n",
    "discretized_vars = discretize(df, bins)"
   ]
  },
  {
   "cell_type": "code",
   "execution_count": null,
   "metadata": {},
   "outputs": [],
   "source": [
    "def calc(df, columns=[\"age\",\"sbp\",\"hr_fused\",\"crt\"]):\n",
    "    '''\n",
    "    Calculate mean and variance for every variable in columns for the case of event and no event\n",
    "    '''\n",
    "\n",
    "    mean_no_event = np.zeros(4)\n",
    "    mean_event = np.zeros(4)\n",
    "    std_no_event = np.zeros(4)\n",
    "    std_event = np.zeros(4)\n",
    "    for i,c in enumerate(columns):\n",
    "        mean_no_event[i] = df[df.event == 0][c].mean()\n",
    "        mean_event[i] = df[df.event == 1][c].mean()\n",
    "        \n",
    "        std_no_event[i] = df[df.event == 0][c].std()\n",
    "        std_event[i] = df[df.event == 1][c].std()\n",
    "\n",
    "    return {\n",
    "        0: mean_no_event,\n",
    "        1: mean_event,\n",
    "    }, {\n",
    "        0: std_no_event,\n",
    "        1: std_event\n",
    "    }\n",
    "\n",
    "def bayes_countinuous(df, x, mean, std, columns=[\"age\",\"sbp\",\"hr_fused\",\"crt\"]):\n",
    "\n",
    "    dist_no_event = []\n",
    "    dist_event = []\n",
    "    for i, c in enumerate(columns):\n",
    "        dist_no_event.append(npdf(x[c], mean[0][i], std[0][i]))\n",
    "        dist_event.append(npdf(x[c], mean[1][i], std[1][i]))\n",
    "\n",
    "    return {\n",
    "        0: np.prod(dist_no_event),\n",
    "        1: np.prod(dist_event)\n",
    "    }"
   ]
  },
  {
   "cell_type": "code",
   "execution_count": null,
   "metadata": {},
   "outputs": [],
   "source": [
    "prob_no_event = count(df[df.event == 0])/count(df)\n",
    "prob_event = count(df[df.event == 1])/count(df)\n",
    "\n",
    "mu, var = calc(df,columns=[\"sbp\"])\n",
    "\n",
    "continuous_val = np.zeros((count(df), 2))\n",
    "continuous_guess = np.zeros(count(df))\n",
    "\n",
    "for i in range(count(df)):\n",
    "    res = bayes_countinuous(df, df.iloc[i], mu, var, columns=[\"sbp\"])\n",
    "    \n",
    "    continuous_val[i][0] = res[0] * prob_no_event\n",
    "    continuous_val[i][1] = res[1] * prob_event\n",
    "\n",
    "    if  continuous_val[i][1] > continuous_val[i][0] :\n",
    "        continuous_guess[i] = 1\n",
    "    else:\n",
    "        continuous_guess[i] = 0\n",
    "        \n",
    "\n",
    "df['continuous_guess'] = continuous_guess.astype(int)\n",
    "df.head()"
   ]
  },
  {
   "cell_type": "markdown",
   "metadata": {},
   "source": [
    "### Discrete Variables\n",
    "\n",
    "X = { Gender, RF, ST, KIL, risk* }\n",
    "\n",
    "discretized = { Age, Heart Rate Fused, Creatinine}"
   ]
  },
  {
   "cell_type": "code",
   "execution_count": null,
   "metadata": {},
   "outputs": [],
   "source": [
    "'''\n",
    "IF CTR >= 1.3 AND ST ==  ---> RISK = 1\n",
    "IF KIL >= 2              ---> RISK = 1\n",
    "'''\n",
    "\n",
    "df['risk'] = np.where(((df.crt >= 1.4) & (df.st == 1)) | (df.kil >= 2), 1, 0)"
   ]
  },
  {
   "cell_type": "code",
   "execution_count": null,
   "metadata": {},
   "outputs": [],
   "source": [
    "def compute_likelihood(data, x, bins, columns = ['gender','risk factor','st','kil','risk'], discretized_columns = [\"age\",\"hr_fused\",\"crt\"]):\n",
    "\n",
    "    prob_cond_no_event = []\n",
    "    prob_cond_event = []\n",
    "    for c in columns:\n",
    "        prob_cond_no_event.append(count(data[(data.event == 0) & (data[c] == x[c])])/count(data[data.event == 0]))\n",
    "        prob_cond_event.append(count(data[(data.event == 1) & (data[c] == x[c])])/count(data[data.event == 1]))\n",
    "\n",
    "    x_bins = binize(df.iloc[i], bins)\n",
    "\n",
    "    for c in discretized_columns:\n",
    "        prob_cond_no_event.append(discretized_vars[c][0][x_bins[c]])\n",
    "        prob_cond_event.append(discretized_vars[c][1][x_bins[c]])\n",
    "\n",
    "    return [np.prod(prob_cond_no_event),np.prod(prob_cond_event)]"
   ]
  },
  {
   "cell_type": "code",
   "execution_count": null,
   "metadata": {},
   "outputs": [],
   "source": [
    "prob_no_event = count(df[df.event == 0])/count(df)\n",
    "prob_event = count(df[df.event == 1])/count(df)\n",
    "\n",
    "discrete_val = np.zeros((count(df),2))\n",
    "discrete_guess = np.zeros(count(df))\n",
    "for i in range(count(df)):\n",
    "    res = compute_likelihood(df, df.iloc[i], bins)\n",
    "    \n",
    "    discrete_val[i][0] = res[0] * prob_no_event\n",
    "    discrete_val[i][1] = res[1] * prob_event\n",
    "\n",
    "    if  discrete_val[i][1] > discrete_val[i][0] :\n",
    "        discrete_guess[i] = 1\n",
    "    else:\n",
    "        discrete_guess[i] = 0\n",
    "        \n",
    "\n",
    "df['discrete_guess'] = discrete_guess.astype(int)\n",
    "df.head()"
   ]
  },
  {
   "cell_type": "markdown",
   "metadata": {},
   "source": [
    "### Evaluation"
   ]
  },
  {
   "cell_type": "code",
   "execution_count": null,
   "metadata": {},
   "outputs": [],
   "source": [
    "df.head()"
   ]
  },
  {
   "cell_type": "code",
   "execution_count": null,
   "metadata": {},
   "outputs": [],
   "source": [
    "decision = continuous_val * discrete_val\n",
    "df['decision'] = (decision[:,1] > decision[:, 0]).astype(int)\n",
    "df.head()"
   ]
  },
  {
   "cell_type": "markdown",
   "metadata": {},
   "source": [
    "Let's measure performance in terms of specificity, sensitivity and f1-score"
   ]
  },
  {
   "cell_type": "code",
   "execution_count": null,
   "metadata": {},
   "outputs": [],
   "source": [
    "def sensitivity(tp, fn):\n",
    "    return tp/(tp+fn)\n",
    "def specificity(fp, tn):\n",
    "    return tn/(fp+tn)"
   ]
  },
  {
   "cell_type": "code",
   "execution_count": null,
   "metadata": {},
   "outputs": [],
   "source": [
    "from sklearn.metrics import confusion_matrix, f1_score\n",
    "\n",
    "tn, fp, fn, tp = confusion_matrix(df.risk, df.decision).ravel()\n",
    "\n",
    "print(f'Sensitivity: {sensitivity(tp, fn)}')\n",
    "print(f'Specificity: {specificity(fp, tn)}')\n",
    "print(f'F1 Score: {f1_score(df.risk, df.decision)}')"
   ]
  }
 ],
 "metadata": {
  "interpreter": {
   "hash": "810c15380f1fce8e631811a518851d5ad2967ce05af2a283e100f93b3b545e4f"
  },
  "kernelspec": {
   "display_name": "Python 3.9.5 ('base')",
   "language": "python",
   "name": "python3"
  },
  "language_info": {
   "codemirror_mode": {
    "name": "ipython",
    "version": 3
   },
   "file_extension": ".py",
   "mimetype": "text/x-python",
   "name": "python",
   "nbconvert_exporter": "python",
   "pygments_lexer": "ipython3",
   "version": "3.9.7"
  },
  "orig_nbformat": 4
 },
 "nbformat": 4,
 "nbformat_minor": 2
}
